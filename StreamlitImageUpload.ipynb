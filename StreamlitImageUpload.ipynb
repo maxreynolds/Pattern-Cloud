{
  "nbformat": 4,
  "nbformat_minor": 0,
  "metadata": {
    "colab": {
      "provenance": [],
      "gpuType": "T4",
      "authorship_tag": "ABX9TyPJXWMN80nKAPKw5jt/IkPX",
      "include_colab_link": true
    },
    "kernelspec": {
      "name": "python3",
      "display_name": "Python 3"
    },
    "language_info": {
      "name": "python"
    },
    "accelerator": "GPU"
  },
  "cells": [
    {
      "cell_type": "markdown",
      "metadata": {
        "id": "view-in-github",
        "colab_type": "text"
      },
      "source": [
        "<a href=\"https://colab.research.google.com/github/maxreynolds/Pattern-Cloud/blob/main/StreamlitImageUpload.ipynb\" target=\"_parent\"><img src=\"https://colab.research.google.com/assets/colab-badge.svg\" alt=\"Open In Colab\"/></a>"
      ]
    },
    {
      "cell_type": "code",
      "execution_count": null,
      "metadata": {
        "id": "JihJ7XZ2PddX"
      },
      "outputs": [],
      "source": [
        "# Setup code\n",
        "!cd /content/\n",
        "!pip install -q streamlit\n",
        "!pip install -q streamlit-image-select\n",
        "!git clone https://github.com/huggingface/diffusers.git\n",
        "!pip install -q ./diffusers\n",
        "!pip install -q  -U -r /content/diffusers/examples/text_to_image/requirements.txt\n",
        "!wget https://github.com/cloudflare/cloudflared/releases/latest/download/cloudflared-linux-amd64\n",
        "!chmod +x cloudflared-linux-amd64\n",
        "!nohup /content/cloudflared-linux-amd64 tunnel --url http://localhost:8501 &"
      ]
    },
    {
      "cell_type": "code",
      "source": [
        "!mkdir /content/user_images\n",
        "!ls"
      ],
      "metadata": {
        "id": "v1vzS6Ty3pTq"
      },
      "execution_count": null,
      "outputs": []
    },
    {
      "cell_type": "code",
      "source": [
        "from huggingface_hub import notebook_login\n",
        "notebook_login()"
      ],
      "metadata": {
        "id": "v80zt9Nb6CIU"
      },
      "execution_count": null,
      "outputs": []
    },
    {
      "cell_type": "code",
      "source": [
        "!grep -o 'https://.*\\.trycloudflare.com' nohup.out | head -n 1 | xargs -I {} echo \"Your tunnel url {}\""
      ],
      "metadata": {
        "id": "VGBC6VycPwRB"
      },
      "execution_count": null,
      "outputs": []
    },
    {
      "cell_type": "code",
      "source": [
        "!streamlit run /content/app.py &>/content/logs.txt &"
      ],
      "metadata": {
        "id": "l7A6KetHP04i"
      },
      "execution_count": 9,
      "outputs": []
    },
    {
      "cell_type": "code",
      "source": [
        "%%writefile app.py\n",
        "from diffusers import StableDiffusionPipeline\n",
        "from datasets import load_dataset\n",
        "\n",
        "import streamlit as st\n",
        "import torch\n",
        "\n",
        "from PIL import Image\n",
        "import csv\n",
        "import os\n",
        "\n",
        "\n",
        "def delete_files_in_directory(directory_path):\n",
        "   try:\n",
        "     files = os.listdir(directory_path)\n",
        "     for file in files:\n",
        "       file_path = os.path.join(directory_path, file)\n",
        "       if os.path.isfile(file_path):\n",
        "         os.remove(file_path)\n",
        "   except OSError:\n",
        "     print(\"Error occurred while deleting files.\")\n",
        "\n",
        "image_set = []\n",
        "image_set = st.file_uploader(\"Upload a folder of your training dataset Images:\",\n",
        "    type=[\"png\"], accept_multiple_files=True) # TODO: expand to type=[\"png\",\"jpg\",\"jpeg\"]]... need to update metadata.csv writer code to check for filetype\n",
        "\n",
        "if image_set is not None:\n",
        "    #st.write('Scroll down for next steps')\n",
        "    st.image(image_set, width=128)\n",
        "\n",
        "if st.button('Upload Images to HuggingFace Hub', type=\"primary\", use_container_width=True):\n",
        "    placeholder = st.empty()\n",
        "    placeholder.text(\"Formatting images...\")\n",
        "    for idx, image in enumerate(image_set):\n",
        "      im = Image.open(image)\n",
        "      im.save(f\"/content/user_images/image{idx}.png\")\n",
        "    num_images = len(image_set)\n",
        "    my_label = \"<r4nd0m-l4b3l-1>\"\n",
        "    with open('/content/user_images/metadata.csv', 'w', newline='') as csvfile:\n",
        "      spamwriter = csv.writer(csvfile, delimiter=' ',\n",
        "                            quotechar='|', quoting=csv.QUOTE_MINIMAL)\n",
        "      spamwriter.writerow(['file_name,text'])\n",
        "      for j in range(num_images):\n",
        "        spamwriter.writerow([f'image{j}.png,'] + [my_label])\n",
        "    placeholder.text('Loading dataset...')\n",
        "    dataset = load_dataset(\"imagefolder\", data_dir=\"/content/user_images\", drop_labels=True)\n",
        "    placeholder.text('Pushing to Hub...')\n",
        "    dataset.push_to_hub(\"MaxReynolds/MyPatternDataset\", private=False)\n",
        "    placeholder.text('Upload complete!')\n",
        "    #removing image files here\n",
        "    delete_files_in_directory('/content/user_images')\n",
        "\n",
        "\n",
        "\n"
      ],
      "metadata": {
        "colab": {
          "base_uri": "https://localhost:8080/"
        },
        "id": "BabENL7sP2xB",
        "outputId": "782bbfe5-5bd9-438b-8bc8-39202a52c8a0"
      },
      "execution_count": 20,
      "outputs": [
        {
          "output_type": "stream",
          "name": "stdout",
          "text": [
            "Overwriting app.py\n"
          ]
        }
      ]
    }
  ]
}