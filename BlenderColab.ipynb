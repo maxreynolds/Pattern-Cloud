{
  "nbformat": 4,
  "nbformat_minor": 0,
  "metadata": {
    "colab": {
      "private_outputs": true,
      "provenance": [],
      "include_colab_link": true
    },
    "kernelspec": {
      "name": "python3",
      "display_name": "Python 3"
    },
    "accelerator": "GPU"
  },
  "cells": [
    {
      "cell_type": "markdown",
      "metadata": {
        "id": "view-in-github",
        "colab_type": "text"
      },
      "source": [
        "<a href=\"https://colab.research.google.com/github/maxreynolds/Pattern-Cloud/blob/main/BlenderColab.ipynb\" target=\"_parent\"><img src=\"https://colab.research.google.com/assets/colab-badge.svg\" alt=\"Open In Colab\"/></a>"
      ]
    },
    {
      "cell_type": "markdown",
      "metadata": {
        "id": "CwraDEw7cENB"
      },
      "source": [
        "# Render Blender Files on Google Colab\n",
        "\n"
      ]
    },
    {
      "cell_type": "code",
      "metadata": {
        "id": "h_E1kl9W4iV8"
      },
      "source": [
        "#Connect Google Drive to Google Colab\n",
        "#=====================================\n",
        "from google.colab import drive\n",
        "drive.mount('/content/drive')"
      ],
      "execution_count": null,
      "outputs": []
    },
    {
      "cell_type": "code",
      "metadata": {
        "id": "ldykR0fMftHt"
      },
      "source": [
        "#Download Blender from Blender Repository.\n",
        "#Other Versions are here: https://download.blender.org/release/\n",
        "#=====================================\n",
        "!wget https://download.blender.org/release/Blender3.5/blender-3.5.1-linux-x64.tar.xz"
      ],
      "execution_count": null,
      "outputs": []
    },
    {
      "cell_type": "code",
      "metadata": {
        "id": "ANYFn5tFH_PE"
      },
      "source": [
        "#Use these commands to move Blender zip file to Google Drive and then back to working directory so you don't have to download Blender each time\n",
        "\n",
        "#Copy Blender Zip File to Google Drive\n",
        "#=====================================\n",
        "!cp /content/blender-3.5.1-linux-x64.tar.xz /content/drive/MyDrive/Blender/blender-3.5.1-linux-x64.tar.xz\n",
        "\n",
        "#Copy Blender Zip File from Google Drive\n",
        "#=====================================\n",
        "!cp /content/drive/MyDrive/Blender/blender-3.5.1-linux-x64.tar.xz /content/blender-3.5.1-linux-x64.tar.xz"
      ],
      "execution_count": null,
      "outputs": []
    },
    {
      "cell_type": "code",
      "metadata": {
        "id": "rQ-CKpS5hBFo"
      },
      "source": [
        "#Unzip Blender\n",
        "#=====================================\n",
        "!tar xf blender-3.5.1-linux-x64.tar.xz\n"
      ],
      "execution_count": null,
      "outputs": []
    },
    {
      "cell_type": "code",
      "metadata": {
        "id": "d20avlrs8oWf"
      },
      "source": [
        "#Deletes the Default libtcmalloc-minimal4 version and installs the Ubuntu default version\n",
        "import os\n",
        "\n",
        "os.environ[\"LD_PRELOAD\"] = \"\"\n",
        "\n",
        "#Deletes wrong Version of libtcmalloc-minimal4\n",
        "!apt remove libtcmalloc-minimal4\n",
        "#Installs correct version of libtcmalloc-minimal4\n",
        "!apt install libtcmalloc-minimal4\n",
        "\n",
        "#Adds this library to the user environment\n",
        "os.environ[\"LD_PRELOAD\"] = \"/usr/lib/x86_64-linux-gnu/libtcmalloc_minimal.so.4.3.0\"\n"
      ],
      "execution_count": null,
      "outputs": []
    },
    {
      "cell_type": "code",
      "metadata": {
        "id": "AYLt4dk18KPS"
      },
      "source": [
        "#Path of Blender File to be Rendered\n",
        "#===========================\n",
        "filename = '/content/drive/MyDrive/BlenderRenders/BlackHole.blend'"
      ],
      "execution_count": null,
      "outputs": []
    },
    {
      "cell_type": "code",
      "metadata": {
        "id": "_p77a65khTRB"
      },
      "source": [
        "#Render Single Frame: Change -f 1 to -f 100 to render frame 100 for example\n",
        "#===========================================================================\n",
        "#!./blender-3.5.1-linux-x64/blender -b $filename -noaudio -E 'CYCLES' --debug-all -o \"/content/drive/MyDrive/BlenderRenders/render\" -f 36 -F 'PNG' -- --cycles-device CUDA\n",
        "\n",
        "#Render Single Frame using OPTIX, if GPU supports it, otherwise use CUDA.\n",
        "#===========================================================================\n",
        "#!./blender-3.5.1-linux-x64/blender -b $filename -noaudio -E 'CYCLES' -o \"/content/drive/MyDrive/BlenderRenders/render\" -f 36 -F 'PNG' -- --cycles-device OPTIX\n",
        "\n",
        "#Render Animation: -s 1 and -e 250 means, render frames 1 to 250 of animation, -a means render animation. Animation will be rendered in whatever format was chosen in blender file. i.e. MP4\n",
        "#===========================================================================\n",
        "!./blender-3.5.1-linux-x64/blender -b $filename -noaudio -E 'CYCLES' -o \"/content/drive/MyDrive/BlenderRenders/render\" -s 36 -e 39 -a -- --cycles-device CUDA\n"
      ],
      "execution_count": null,
      "outputs": []
    },
    {
      "cell_type": "code",
      "metadata": {
        "id": "UcXH9y2fG0Ub"
      },
      "source": [
        "#Uncomment to Check NVidia GPU Status. i.e. What GPU you are using\n",
        "#=================================================================\n",
        "!nvidia-smi"
      ],
      "execution_count": null,
      "outputs": []
    },
    {
      "cell_type": "code",
      "source": [],
      "metadata": {
        "id": "YhukpH3pGNJB"
      },
      "execution_count": null,
      "outputs": []
    }
  ]
}
